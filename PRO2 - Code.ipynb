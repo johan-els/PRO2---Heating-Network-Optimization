{
 "cells": [
  {
   "cell_type": "markdown",
   "metadata": {},
   "source": [
    "# PRO2 - Heating Network Optimization"
   ]
  },
  {
   "cell_type": "markdown",
   "metadata": {},
   "source": [
    "## Step 1 - Base Case\n",
    "Import libraries"
   ]
  },
  {
   "cell_type": "code",
   "execution_count": 22,
   "metadata": {},
   "outputs": [],
   "source": [
    "# Import required libraries\n",
    "from pulp import *\n",
    "import pandas as pd\n",
    "import matplotlib.pyplot as plt\n",
    "import pulp as pl\n",
    "import numpy as np\n",
    "import warnings\n",
    "warnings.filterwarnings('ignore')"
   ]
  },
  {
   "cell_type": "markdown",
   "metadata": {},
   "source": [
    "Read input data"
   ]
  },
  {
   "cell_type": "code",
   "execution_count": 23,
   "metadata": {},
   "outputs": [],
   "source": [
    "def read_input_data():\n",
    "    heat_demand1 = pd.read_csv('heat_load1.csv', index_col=False)\n",
    "    heat_demand2 = pd.read_csv('heat_load3.csv', index_col=False)\n",
    "    el_demand = pd.read_csv('electricity_demand.csv', index_col=False)\n",
    "    el_prices = pd.read_csv('el_prices_SE42023.csv', index_col=False)\n",
    "    eon_elprice = pd.read_csv('elprice.csv', index_col=False)\n",
    "\n",
    "    return heat_demand1, heat_demand2, el_demand, el_prices, eon_elprice\n",
    "\n",
    "#Read the data\n",
    "heat_demand1, heat_demand2, el_demand, el_prices, eon_elprice = read_input_data()"
   ]
  },
  {
   "cell_type": "markdown",
   "metadata": {},
   "source": [
    "Define Capacities and Storage Parameters"
   ]
  },
  {
   "cell_type": "code",
   "execution_count": 24,
   "metadata": {},
   "outputs": [],
   "source": [
    "#Capacities and Storage Parameters\n",
    "resources_heat = {\n",
    "    'WC_boiler' : {'min' : 0.765, 'max' : 1.7, 'efficiency' : 0.85, 'cost' : 200, 'CO2' : 11},\n",
    "    'WtECHP_heat' : {'min' : 0.17, 'max' : 0.85, 'efficiency' : 1, 'cost' : 195.4, 'CO2' : 11}\n",
    "}\n",
    "\n",
    "resources_el = {'WtECHP_el' : {'min' : 0.1, 'max' : 0.4, 'efficiency' : 0.22, 'cost': 248.5}}\n",
    "HP = {'min': 5, 'max': 20, 'COP': 3.5}\n",
    "\n",
    "interval = 8760\n",
    "results = pd.DataFrame(index=heat_demand1.index)\n",
    "end_state = 0"
   ]
  },
  {
   "cell_type": "code",
   "execution_count": 25,
   "metadata": {},
   "outputs": [],
   "source": [
    "interval = 8760\n",
    "results = pd.DataFrame(index=heat_demand1.index)\n",
    "end_state = 0"
   ]
  },
  {
   "cell_type": "markdown",
   "metadata": {},
   "source": [
    "Initialize Optimization Problem and Define Decision Variables"
   ]
  },
  {
   "cell_type": "code",
   "execution_count": 26,
   "metadata": {},
   "outputs": [],
   "source": [
    "for i in range(len(heat_demand1) // interval):\n",
    "    start_idx = i * interval\n",
    "    end_idx = (i + 1) * interval\n",
    "\n",
    "    prob = LpProblem(\"District Heating Plant Dispatch Optimization\", LpMinimize)\n",
    "    Storage_state = 0\n",
    "\n",
    "    variables = LpVariable.dicts(\"Fuel\", ((r, t) for r in resources_heat for t in range(start_idx, end_idx)), lowBound=0, cat='Continuous')\n",
    "    b_heat = LpVariable.dicts(\"b_heat\", ((r, t) for r in resources_heat for t in heat_demand1.index), cat=\"Integer\")\n",
    "    b_HP = LpVariable.dicts(\"b_HP\", [t for t in range(start_idx, end_idx)], cat=\"Integer\")\n",
    "    HP_heat = LpVariable.dicts(\"HP\", [t for t in range(start_idx, end_idx)], lowBound=0, cat='Continuous')\n",
    "    chp_load = LpVariable.dict(\"CHP Load\", [t for t in range(start_idx, end_idx)], lowBound=0, cat='Continuous')\n",
    "    buy_el = LpVariable.dict(\"Buy Electricity\", [t for t in range(start_idx, end_idx)], lowBound=0, cat='Continuous')\n",
    "    b_el = LpVariable.dict(\"b_el\", [t for t in range(start_idx, end_idx)], cat=\"Integer\")"
   ]
  },
  {
   "cell_type": "markdown",
   "metadata": {},
   "source": [
    "Define Objective Function"
   ]
  },
  {
   "cell_type": "code",
   "execution_count": 27,
   "metadata": {},
   "outputs": [],
   "source": [
    "for i in range(len(heat_demand1) // interval):\n",
    "    start_idx = i * interval\n",
    "    end_idx = (i + 1) * interval\n",
    "\n",
    "    prob += lpSum([variables[(r, t)] * resources_heat[r]['cost'] for r in resources_heat for t in range(start_idx, end_idx)]) \\\n",
    "        + lpSum([HP_heat[t] * (1 / HP['COP']) * float(el_prices.loc[t].to_numpy()) for t in range(start_idx, end_idx)]) \\\n",
    "        - (lpSum([el_demand.loc[t] * eon_elprice.loc[t] for t in range(start_idx, end_idx)]) \\\n",
    "        + lpSum([(chp_load[t] - el_demand.loc[t]) * float(el_prices.loc[t].to_numpy()) for t in range(start_idx, end_idx)]) \\\n",
    "        - lpSum(chp_load[t] * resources_el['CHP_el']['cost'] for t in range(start_idx, end_idx)) \\\n",
    "        - lpSum(buy_el[t] * float(el_prices.loc[t].to_numpy()) for t in range(start_idx, end_idx)))"
   ]
  },
  {
   "cell_type": "markdown",
   "metadata": {},
   "source": [
    "Add Constraints"
   ]
  },
  {
   "cell_type": "code",
   "execution_count": 28,
   "metadata": {},
   "outputs": [],
   "source": [
    "for i in range(len(heat_demand1) // interval):\n",
    "    start_idx = i * interval\n",
    "    end_idx = (i + 1) * interval\n",
    "    for t in range(start_idx, end_idx):\n",
    "\n",
    "        \n",
    "        # Electricity\n",
    "        \n",
    "        prob += chp_load[t] + buy_el[t] >= el_demand.loc[t] #electricity production + bought has to meet eon's demand\n",
    "        prob += chp_load[t] <= lpSum(resources_el['CHP_el']['max'] * b_el[t]) #maximum CHP turbine load \n",
    "        prob += chp_load[t] >= lpSum(resources_el['CHP_el']['min']*b_el[t]) # minimum CHP turbine load\n",
    "        \n",
    "       \n",
    "        prob += buy_el[t] >= 0 #electricity bought must be grater than 0 (also specified in the lower boundary of the variable but this caused some trouble)\n",
    "        prob += b_el[t] >=0 # Binary variables can only take the values of 0 or 1. These variable could also be defined as Binary in the variable definition part, but they didn't work correctly\n",
    "        prob += b_el[t] <=1# Binary variables can only take the values of 0 or 1. \n",
    "        prob += chp_load[t] <= 0.25*(variables[('CHP_heat', t)]) #Alpha value of the CHP system\n",
    "        \n",
    "\n",
    "        #Maintenance stops as per 2022 data\n",
    "              \n",
    "        if t in range(3862, 5837):\n",
    "            \n",
    "            prob += b_heat[('CHP_heat', t)]==0\n",
    "            prob += variables[('CHP_heat', t)]==0\n",
    "            prob += steam_chp[t]==0\n",
    "        \n",
    "        \n",
    "        if t in range(3862, 5981): #Turbine takes a little longer than the CHP boiler to re-start\n",
    "            prob += chp_load[t]==0\n",
    "        \n",
    "        \n",
    "        if t in range(2989, 3855) or t in range(5893, 7633):\n",
    "            prob += b_heat[('WC1_boiler', t)]==0 #WC1 Boiler stops in May-June\n",
    "            prob += steam_VV[t]==0\n",
    "\n",
    "        # Total heat production\n",
    "        \n",
    "        heat_production = lpSum([variables[(r, t)]  for r in resources_heat]) + HP_heat[t]\n",
    "        \n",
    "       # Total heat production must equal the demand + the heat stored\n",
    "       \n",
    "        prob += heat_production == heat_demand.loc[t]\n",
    "        \n",
    "        # Binary variable for the boilers\n",
    "        \n",
    "        for r in resources_heat:\n",
    "            \n",
    "            prob += b_heat[(r, t)] >=0\n",
    "            prob += b_heat[(r, t)] <=1\n",
    "        \n",
    "        # Minimum and maximum capacity constraints\n",
    "        \n",
    "        prob += b_HP[t] >=0\n",
    "        prob += b_HP[t] <=1\n",
    "        prob += HP_heat[t] <= HP['max']*b_HP[t]\n",
    "        prob += HP_heat[t] >= HP['min']*b_HP[t]\n",
    "        prob += variables[('CHP_heat', t)]+steam_chp[t] <=resources_heat['CHP_heat']['max']*b_heat[('CHP_heat', t)]\n",
    "        prob += variables[('CHP_heat', t)]+steam_chp[t] >=resources_heat['CHP_heat']['min']*b_heat[('CHP_heat', t)]\n",
    "        prob += variables[('WC1_boiler', t)]+steam_VV[t] <=resources_heat['WC1_boiler']['max']*b_heat[('WC1_boiler', t)]\n",
    "        prob += variables[('WC1_boiler', t)]+steam_VV[t] >=resources_heat['WC1_boiler']['min']*b_heat[('WC1_boiler', t)]"
   ]
  },
  {
   "cell_type": "markdown",
   "metadata": {},
   "source": [
    "Solve the Optimization Problem"
   ]
  },
  {
   "cell_type": "code",
   "execution_count": 37,
   "metadata": {},
   "outputs": [
    {
     "name": "stdout",
     "output_type": "stream",
     "text": [
      "  HP_heat CHP_heat WC1_boiler buy_el chp_el\n",
      "0     NaN      NaN        NaN    NaN    NaN\n",
      "1     NaN      NaN        NaN    NaN    NaN\n",
      "2     NaN      NaN        NaN    NaN    NaN\n",
      "3     NaN      NaN        NaN    NaN    NaN\n",
      "4     NaN      NaN        NaN    NaN    NaN\n"
     ]
    }
   ],
   "source": [
    "for i in range(len(heat_demand1) // interval):\n",
    "    \n",
    "    # start and end indices for the r interval\n",
    "    \n",
    "    start_idx = i * interval\n",
    "    end_idx = (i + 1) * interval\n",
    "    \n",
    "    prob.solve()\n",
    "    if prob.status != 1:\n",
    "        print(\"Optimization did not reach an optimal solution.\")\n",
    "\n",
    "    # Define decision variables\n",
    "    chp_heat = {}\n",
    "    WC1 = {}\n",
    "    bio_oil_1 = {}\n",
    "    bio_oil_2 = {}\n",
    "    wood_pellets_1 = {}\n",
    "    wood_pellets_2 = {}\n",
    "    bio_oil_3 = {}  \n",
    "    HP_h = {}\n",
    "    Buy_el={}\n",
    "    Chp_load={}\n",
    "\n",
    "\n",
    "\n",
    "    # Populate the results DataFrame with the optimal values of the decision variables\n",
    "\n",
    "    for p in range(start_idx, end_idx):\n",
    "        \n",
    "        chp_heat[p] = variables[('CHP_heat', p)]\n",
    "        WC1[p] = variables[('WC1_boiler', p)]\n",
    "        HP_h[p] = HP_heat[p]\n",
    "        Buy_el[p] = buy_el[p]\n",
    "        Chp_load[p] = chp_load[p]\n",
    "\n",
    "    for q in range(start_idx, end_idx):\n",
    "        if HP_h[q].varValue is not None:\n",
    "            results.loc[q, 'HP_heat'] = HP_h[q].varValue\n",
    "        else:\n",
    "            print(f\"No value for HP_heat at time {q}\")\n",
    "\n",
    "        results.loc[q, 'HP_heat'] = HP_h[q].varValue\n",
    "        results.loc[q, 'CHP_heat'] = chp_heat[q].varValue\n",
    "        results.loc[q, 'WC1_boiler'] = WC1[q].varValue\n",
    "        results.loc[q, 'buy_el'] = Buy_el[q].varValue\n",
    "        results.loc[q, 'chp_el'] = Chp_load[q].varValue\n",
    "\n",
    "results = pd.DataFrame(index=range(len(heat_demand1)), \n",
    "                       columns=['HP_heat', 'CHP_heat', 'WC1_boiler', 'buy_el', 'chp_el'])\n",
    "results.to_excel(\"results_General.xlsx\", index=False)\n",
    "\n",
    "print(results.head())"
   ]
  },
  {
   "cell_type": "markdown",
   "metadata": {},
   "source": [
    "Visualize Results"
   ]
  },
  {
   "cell_type": "code",
   "execution_count": 30,
   "metadata": {},
   "outputs": [
    {
     "ename": "TypeError",
     "evalue": "no numeric data to plot",
     "output_type": "error",
     "traceback": [
      "\u001b[1;31m---------------------------------------------------------------------------\u001b[0m",
      "\u001b[1;31mTypeError\u001b[0m                                 Traceback (most recent call last)",
      "Cell \u001b[1;32mIn[30], line 5\u001b[0m\n\u001b[0;32m      1\u001b[0m colors \u001b[38;5;241m=\u001b[39m {\u001b[38;5;124m'\u001b[39m\u001b[38;5;124mCHP (heat+steam)\u001b[39m\u001b[38;5;124m'\u001b[39m: \u001b[38;5;124m'\u001b[39m\u001b[38;5;124mblue\u001b[39m\u001b[38;5;124m'\u001b[39m, \n\u001b[0;32m      2\u001b[0m           \u001b[38;5;124m'\u001b[39m\u001b[38;5;124mWC HoB (heat+steam)\u001b[39m\u001b[38;5;124m'\u001b[39m: \u001b[38;5;124m'\u001b[39m\u001b[38;5;124mred\u001b[39m\u001b[38;5;124m'\u001b[39m, \n\u001b[0;32m      3\u001b[0m           \u001b[38;5;124m'\u001b[39m\u001b[38;5;124mHP_heat\u001b[39m\u001b[38;5;124m'\u001b[39m: \u001b[38;5;124m'\u001b[39m\u001b[38;5;124mgreen\u001b[39m\u001b[38;5;124m'\u001b[39m}\n\u001b[1;32m----> 5\u001b[0m ax \u001b[38;5;241m=\u001b[39m \u001b[43mresults\u001b[49m\u001b[38;5;241;43m.\u001b[39;49m\u001b[43miloc\u001b[49m\u001b[43m[\u001b[49m\u001b[43m:\u001b[49m\u001b[43m,\u001b[49m\u001b[43m \u001b[49m\u001b[43m:\u001b[49m\u001b[38;5;241;43m8\u001b[39;49m\u001b[43m]\u001b[49m\u001b[38;5;241;43m.\u001b[39;49m\u001b[43mplot\u001b[49m\u001b[38;5;241;43m.\u001b[39;49m\u001b[43marea\u001b[49m\u001b[43m(\u001b[49m\u001b[43mstacked\u001b[49m\u001b[38;5;241;43m=\u001b[39;49m\u001b[38;5;28;43;01mTrue\u001b[39;49;00m\u001b[43m,\u001b[49m\u001b[43m \u001b[49m\u001b[43mfigsize\u001b[49m\u001b[38;5;241;43m=\u001b[39;49m\u001b[43m(\u001b[49m\u001b[38;5;241;43m20\u001b[39;49m\u001b[43m,\u001b[49m\u001b[38;5;241;43m7\u001b[39;49m\u001b[43m)\u001b[49m\u001b[43m,\u001b[49m\u001b[43m \u001b[49m\u001b[43mcolor\u001b[49m\u001b[38;5;241;43m=\u001b[39;49m\u001b[43mcolors\u001b[49m\u001b[38;5;241;43m.\u001b[39;49m\u001b[43mvalues\u001b[49m\u001b[43m(\u001b[49m\u001b[43m)\u001b[49m\u001b[43m,\u001b[49m\u001b[43m \u001b[49m\u001b[43mlinewidth\u001b[49m\u001b[38;5;241;43m=\u001b[39;49m\u001b[38;5;241;43m0.05\u001b[39;49m\u001b[43m)\u001b[49m\n\u001b[0;32m      8\u001b[0m \u001b[38;5;66;03m# Axis labels and title\u001b[39;00m\n\u001b[0;32m      9\u001b[0m ax\u001b[38;5;241m.\u001b[39mset_xlabel(\u001b[38;5;124m'\u001b[39m\u001b[38;5;124mHour\u001b[39m\u001b[38;5;124m'\u001b[39m)\n",
      "File \u001b[1;32mc:\\Users\\MSI GAMING\\anaconda3new\\envs\\Dhtutorial\\lib\\site-packages\\pandas\\plotting\\_core.py:1496\u001b[0m, in \u001b[0;36mPlotAccessor.area\u001b[1;34m(self, x, y, **kwargs)\u001b[0m\n\u001b[0;32m   1425\u001b[0m \u001b[38;5;28;01mdef\u001b[39;00m \u001b[38;5;21marea\u001b[39m(\u001b[38;5;28mself\u001b[39m, x\u001b[38;5;241m=\u001b[39m\u001b[38;5;28;01mNone\u001b[39;00m, y\u001b[38;5;241m=\u001b[39m\u001b[38;5;28;01mNone\u001b[39;00m, \u001b[38;5;241m*\u001b[39m\u001b[38;5;241m*\u001b[39mkwargs):\n\u001b[0;32m   1426\u001b[0m \u001b[38;5;250m    \u001b[39m\u001b[38;5;124;03m\"\"\"\u001b[39;00m\n\u001b[0;32m   1427\u001b[0m \u001b[38;5;124;03m    Draw a stacked area plot.\u001b[39;00m\n\u001b[0;32m   1428\u001b[0m \n\u001b[1;32m   (...)\u001b[0m\n\u001b[0;32m   1494\u001b[0m \u001b[38;5;124;03m        >>> ax = df.plot.area(x='day')\u001b[39;00m\n\u001b[0;32m   1495\u001b[0m \u001b[38;5;124;03m    \"\"\"\u001b[39;00m\n\u001b[1;32m-> 1496\u001b[0m     \u001b[38;5;28;01mreturn\u001b[39;00m \u001b[38;5;28mself\u001b[39m(kind\u001b[38;5;241m=\u001b[39m\u001b[38;5;124m\"\u001b[39m\u001b[38;5;124marea\u001b[39m\u001b[38;5;124m\"\u001b[39m, x\u001b[38;5;241m=\u001b[39mx, y\u001b[38;5;241m=\u001b[39my, \u001b[38;5;241m*\u001b[39m\u001b[38;5;241m*\u001b[39mkwargs)\n",
      "File \u001b[1;32mc:\\Users\\MSI GAMING\\anaconda3new\\envs\\Dhtutorial\\lib\\site-packages\\pandas\\plotting\\_core.py:972\u001b[0m, in \u001b[0;36mPlotAccessor.__call__\u001b[1;34m(self, *args, **kwargs)\u001b[0m\n\u001b[0;32m    969\u001b[0m             label_name \u001b[38;5;241m=\u001b[39m label_kw \u001b[38;5;129;01mor\u001b[39;00m data\u001b[38;5;241m.\u001b[39mcolumns\n\u001b[0;32m    970\u001b[0m             data\u001b[38;5;241m.\u001b[39mcolumns \u001b[38;5;241m=\u001b[39m label_name\n\u001b[1;32m--> 972\u001b[0m \u001b[38;5;28;01mreturn\u001b[39;00m plot_backend\u001b[38;5;241m.\u001b[39mplot(data, kind\u001b[38;5;241m=\u001b[39mkind, \u001b[38;5;241m*\u001b[39m\u001b[38;5;241m*\u001b[39mkwargs)\n",
      "File \u001b[1;32mc:\\Users\\MSI GAMING\\anaconda3new\\envs\\Dhtutorial\\lib\\site-packages\\pandas\\plotting\\_matplotlib\\__init__.py:71\u001b[0m, in \u001b[0;36mplot\u001b[1;34m(data, kind, **kwargs)\u001b[0m\n\u001b[0;32m     69\u001b[0m         kwargs[\u001b[38;5;124m\"\u001b[39m\u001b[38;5;124max\u001b[39m\u001b[38;5;124m\"\u001b[39m] \u001b[38;5;241m=\u001b[39m \u001b[38;5;28mgetattr\u001b[39m(ax, \u001b[38;5;124m\"\u001b[39m\u001b[38;5;124mleft_ax\u001b[39m\u001b[38;5;124m\"\u001b[39m, ax)\n\u001b[0;32m     70\u001b[0m plot_obj \u001b[38;5;241m=\u001b[39m PLOT_CLASSES[kind](data, \u001b[38;5;241m*\u001b[39m\u001b[38;5;241m*\u001b[39mkwargs)\n\u001b[1;32m---> 71\u001b[0m \u001b[43mplot_obj\u001b[49m\u001b[38;5;241;43m.\u001b[39;49m\u001b[43mgenerate\u001b[49m\u001b[43m(\u001b[49m\u001b[43m)\u001b[49m\n\u001b[0;32m     72\u001b[0m plot_obj\u001b[38;5;241m.\u001b[39mdraw()\n\u001b[0;32m     73\u001b[0m \u001b[38;5;28;01mreturn\u001b[39;00m plot_obj\u001b[38;5;241m.\u001b[39mresult\n",
      "File \u001b[1;32mc:\\Users\\MSI GAMING\\anaconda3new\\envs\\Dhtutorial\\lib\\site-packages\\pandas\\plotting\\_matplotlib\\core.py:286\u001b[0m, in \u001b[0;36mMPLPlot.generate\u001b[1;34m(self)\u001b[0m\n\u001b[0;32m    284\u001b[0m \u001b[38;5;28;01mdef\u001b[39;00m \u001b[38;5;21mgenerate\u001b[39m(\u001b[38;5;28mself\u001b[39m):\n\u001b[0;32m    285\u001b[0m     \u001b[38;5;28mself\u001b[39m\u001b[38;5;241m.\u001b[39m_args_adjust()\n\u001b[1;32m--> 286\u001b[0m     \u001b[38;5;28;43mself\u001b[39;49m\u001b[38;5;241;43m.\u001b[39;49m\u001b[43m_compute_plot_data\u001b[49m\u001b[43m(\u001b[49m\u001b[43m)\u001b[49m\n\u001b[0;32m    287\u001b[0m     \u001b[38;5;28mself\u001b[39m\u001b[38;5;241m.\u001b[39m_setup_subplots()\n\u001b[0;32m    288\u001b[0m     \u001b[38;5;28mself\u001b[39m\u001b[38;5;241m.\u001b[39m_make_plot()\n",
      "File \u001b[1;32mc:\\Users\\MSI GAMING\\anaconda3new\\envs\\Dhtutorial\\lib\\site-packages\\pandas\\plotting\\_matplotlib\\core.py:453\u001b[0m, in \u001b[0;36mMPLPlot._compute_plot_data\u001b[1;34m(self)\u001b[0m\n\u001b[0;32m    451\u001b[0m \u001b[38;5;66;03m# no non-numeric frames or series allowed\u001b[39;00m\n\u001b[0;32m    452\u001b[0m \u001b[38;5;28;01mif\u001b[39;00m is_empty:\n\u001b[1;32m--> 453\u001b[0m     \u001b[38;5;28;01mraise\u001b[39;00m \u001b[38;5;167;01mTypeError\u001b[39;00m(\u001b[38;5;124m\"\u001b[39m\u001b[38;5;124mno numeric data to plot\u001b[39m\u001b[38;5;124m\"\u001b[39m)\n\u001b[0;32m    455\u001b[0m \u001b[38;5;28mself\u001b[39m\u001b[38;5;241m.\u001b[39mdata \u001b[38;5;241m=\u001b[39m numeric_data\u001b[38;5;241m.\u001b[39mapply(\u001b[38;5;28mself\u001b[39m\u001b[38;5;241m.\u001b[39m_convert_to_ndarray)\n",
      "\u001b[1;31mTypeError\u001b[0m: no numeric data to plot"
     ]
    }
   ],
   "source": [
    "colors = {'CHP (heat+steam)': 'blue', \n",
    "          'WC HoB (heat+steam)': 'red', \n",
    "          'HP_heat': 'green'}\n",
    "\n",
    "ax = results.iloc[:, :8].plot.area(stacked=True, figsize=(20,7), color=colors.values(), linewidth=0.05)\n",
    "\n",
    "\n",
    "# Axis labels and title\n",
    "ax.set_xlabel('Hour')\n",
    "ax.set_ylabel('Heat Production (MWh)', fontsize=16)\n",
    "#ax.set_title('Heat Production by technology', fontsize=16)\n",
    "\n",
    "#ax.set_xlim([4080, 4104])\n",
    "\n",
    "# legend\n",
    "handles = [plt.Rectangle((0,0),1,1, color=colors[label]) for label in colors]\n",
    "labels = colors.keys()\n",
    "ax.legend(handles, labels)\n",
    "\n",
    "\n",
    "# Plot\n",
    "plt.show()"
   ]
  }
 ],
 "metadata": {
  "kernelspec": {
   "display_name": "Dhtutorial",
   "language": "python",
   "name": "python3"
  },
  "language_info": {
   "codemirror_mode": {
    "name": "ipython",
    "version": 3
   },
   "file_extension": ".py",
   "mimetype": "text/x-python",
   "name": "python",
   "nbconvert_exporter": "python",
   "pygments_lexer": "ipython3",
   "version": "3.9.20"
  }
 },
 "nbformat": 4,
 "nbformat_minor": 2
}
